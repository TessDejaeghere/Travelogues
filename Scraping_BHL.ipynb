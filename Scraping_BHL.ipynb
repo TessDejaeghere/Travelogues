{
  "cells": [
    {
      "cell_type": "markdown",
      "source": [
        "# Notebook introduction\n",
        "\n",
        "In this notebook, travel-related texts are fetched from the API of https://www.biodiversitylibrary.org/.\n",
        "A travel-related term is manually entered - and texts which contain that term as a title element are fetched.\n",
        "The result is then stored as a dataframe, and subsequently as a .CSV-file.\n",
        "\n",
        "These .CSV-files are further processed and metadated in other notebooks."
      ],
      "metadata": {
        "id": "hfe5YePACMUp"
      }
    },
    {
      "cell_type": "code",
      "execution_count": null,
      "metadata": {
        "id": "6bmMy2LG7FM8"
      },
      "outputs": [],
      "source": [
        "import requests\n",
        "import pandas as pd"
      ]
    },
    {
      "cell_type": "code",
      "execution_count": null,
      "metadata": {
        "id": "GTPLYZAg8HdO"
      },
      "outputs": [],
      "source": [
        "#user key for BHL API\n",
        "key = \"d8ffd12f-b06d-49a6-acaa-d830fcb30083\""
      ]
    },
    {
      "cell_type": "markdown",
      "metadata": {
        "id": "M1NxzWIyz5OD"
      },
      "source": [
        "# Fetch BHL data\n"
      ]
    },
    {
      "cell_type": "code",
      "execution_count": null,
      "metadata": {
        "id": "oBG-4krqHOhU"
      },
      "outputs": [],
      "source": [
        "#define user agent\n",
        "ua = \"Mozilla/5.0 (Windows NT 10.0; Win64; x64) AppleWebKit/537.36 (KHTML, like Gecko) Chrome/104.0.0.0 Safari/537.36\""
      ]
    },
    {
      "cell_type": "code",
      "execution_count": null,
      "metadata": {
        "id": "avlhIa2uH01n"
      },
      "outputs": [],
      "source": [
        "headers = {\"User-Agent\": ua}"
      ]
    },
    {
      "cell_type": "code",
      "execution_count": null,
      "metadata": {
        "id": "pq3c2IQ-2QJr"
      },
      "outputs": [],
      "source": [
        "#enter travel-related search term\n",
        "search = \"reys\""
      ]
    },
    {
      "cell_type": "code",
      "execution_count": null,
      "metadata": {
        "id": "osk7R8CIz6gF"
      },
      "outputs": [],
      "source": [
        "#define request\n",
        "title_IDS = requests.get(f\"https://www.biodiversitylibrary.org/api2/httpquery.ashx?op=TitleSearchSimple&title={search}&apikey={key}&format=json\", headers = headers)"
      ]
    },
    {
      "cell_type": "code",
      "execution_count": null,
      "metadata": {
        "colab": {
          "base_uri": "https://localhost:8080/"
        },
        "id": "DpNTCT8E0FUE",
        "outputId": "11db95f8-f380-4b67-ed2f-c622147b088e"
      },
      "outputs": [
        {
          "output_type": "stream",
          "name": "stdout",
          "text": [
            "Number of title_IDS:\n"
          ]
        },
        {
          "output_type": "execute_result",
          "data": {
            "text/plain": [
              "6"
            ]
          },
          "metadata": {},
          "execution_count": 7
        }
      ],
      "source": [
        "#check number of titles fetched\n",
        "x = title_IDS.json()\n",
        "print(\"Number of title_IDS:\")\n",
        "len(x[\"Result\"])"
      ]
    },
    {
      "cell_type": "code",
      "execution_count": null,
      "metadata": {
        "id": "m2Uk3xzE088e"
      },
      "outputs": [],
      "source": [
        "#if no title id available, don't fetch\n",
        "title_IDS = [result[\"TitleID\"] if result[\"TitleID\"] is not None else \"not available\" for result in x[\"Result\"]]"
      ]
    },
    {
      "cell_type": "code",
      "execution_count": null,
      "metadata": {
        "colab": {
          "base_uri": "https://localhost:8080/"
        },
        "id": "f_ClWQYu1aC6",
        "outputId": "7a17fc24-7156-4c5e-91f7-1a3d86fa8c6b"
      },
      "outputs": [
        {
          "output_type": "stream",
          "name": "stdout",
          "text": [
            "1\n",
            "Fetching: Fünfter Theil der Orientalischen Indien, eygentlicher Bericht vnd warhafftige Beschreibung der gantzen volkommenen Reyse oder Schiffart, so die Holländer mit acht Schiffen in die Orientalische Indien, sonderlich aber in die Javanische vnd Molukische Inseln, als Bantam, Banda, vnd Ternate, &c. gethan haben, welche von Amsterdam abgefahren im Jahr 1598. vnd zum Theil Anno 1599. zum Theil aber in Jüngst abgelauffenen 1600. Jahr, : mit grossen Reichthumb von Pfeffer Muscaten, Regelein, vnd anderer köstlichen Würtz, wider anheym gelanget, darinn fleissig beschrieben vnd angezeigt, was ihnen auff der gantzen Reyse Denckwürdiges begegnet vnd zuhanden gangen \n",
            " By: Neck, Jacob Cornelisz. van, \n",
            " Written in:  \n",
            " Language: German\n",
            "171866\n",
            "OCR available\n",
            "2\n",
            "Fetching: Fünfter Theil der Orientalischen Indien, eygentlicher Bericht vnd warhafftige Beschreibung der gantzen volkommenen Reyse oder Schiffahrt, so die Holländer mit 8. Schiffen in die Orientalische Indien, sond[er]lich aber in die Javanische vnd Molukische Inseln, als Bantam, Banda, vnnd Ternate, &c. gethan haben, welche von Amsterdam abgefahren im Jahr 1598. vnnd zum Theil Anno 1599. zum Theil aber in Jüngst abgelauffenen 1600. Jahr, : mit grossen Reichthumb von Pfeffer, Muscaten, Regelein, vnd anderer köstlichen Würtz, wid anheym gelanget, darinn fleissig beschrieben vnd angezeigt, w[a]z ihnen auff der gantzen Reyse Denckwürdiges begegnet vnd zuhanden gangen \n",
            " By: Neck, Jacob Cornelisz. van, \n",
            " Written in:  \n",
            " Language: German\n",
            "172039\n",
            "OCR available\n",
            "3\n",
            "Fetching: Hachelijke reys-togt van Jacob Jansz de Roy, na Borneo en Atchin, in sijn vlugt van Batavia, derwaards ondernoomen in het jaar 1691. en vervolgens : Zijnde een opregt verhaal van zeldsaame ontmoetingen, en deerlijke rampen; als beroovinge van vaartuygen de goederen, honger, dorst, naaktheyd, armoede, veerderley doods-gevaar en andere onuytspreekelijke ongemakken, door hem selfs uytgestaan. Mitsgaders een seer naaukeurige beschrijving van het eyland Borneo, met des zelfs koningrijken, also Banyer Massing, Succadana, Cottaringen, de woon-plaatsen van de viadjes en andere, met hare overkostelijke goud-en diamant-mijnen, camphur en andere koopmanschappen, also ook hare goud-rijke bergen en rivieren, negeryen, schoonheyd der vrouwen, huuwelijken, imborst en zeeden der inwoonders, &c. Insgelijks een aanmerkelijk berigt van her koningrijk Atchin op Sumatra, met haat land-aard, regeering en uytvoering van lijf-en hals-strassen over de dieven \n",
            " By: Roy, Jacob Jansz de, \n",
            " Written in:  \n",
            " Language: Dutch\n",
            "259830\n",
            "OCR available\n",
            "4\n",
            "Fetching: Reyse nach Gvinea, oder, Ausführliche Beschreibung dasiger Gold-Gruben, Elephanten-Zähn und Sclaven-Handels ... \n",
            " By: Bosman, Willem, \n",
            " Written in:  \n",
            " Language: German\n",
            "162561\n",
            "OCR available\n",
            "5\n",
            "Fetching: Tweejaarige reyse rondom de wereld, ter nader ontdekkinge der onbekende zuydlanden, met drie schepen in het jaar 1721 ondernomen door last van de Nederlandsche Westindische Maatschappy. Nevens de reyse van het Oostindisch schip Barneveld, uyt Holland tot aan de Kaap de Goede Hoope, in 1719 \n",
            " By: Cornelis, Abraham (Amsterdam) \n",
            " Written in: 1774 \n",
            " Language: Dutch\n",
            "209901\n",
            "OCR available\n",
            "6\n",
            "Fetching: W: Dampier en L: Wafers Reystogten rondom de waereldt; : begrypende, in vier beknopte boekdeelen, een naauwkeurige beschryving van verscheyde nieuwe ontdekte zeën, kusten, en landen, zo in Amerika, Asia, als Afrika; benevens veele nuttelyke aanmerkingen ontrent de stroomen, winden, havens, dieptens, engtens en andere fraye waarnemingen en bysonderheden, zo van bereisde als voor dese, onbereisde gewesten: alom doormengt, met de beschrijving der inwoonders, aardt, zeden en plegtigheden dezer vreemde volkeren. Midsgaders derselver landsdouwen, vrugten, gewassen, dieren, en andere seldsaamheden. Voorzien met een groot getal kaarten, kust ontdekkingen en andere fraye verbeeldingen \n",
            " By: Dampier, William, \n",
            " Written in:  \n",
            " Language: Dutch\n",
            "121800\n",
            "OCR available\n"
          ]
        }
      ],
      "source": [
        "#Fetch books from Biodiversity Heritage Library based on presence of travel-related term in the title.\n",
        "#Assumption: books with travel-related term in the title are travel-related.\n",
        "\n",
        "item_ids = []\n",
        "books = []\n",
        "cnt = 0\n",
        "for title_id in title_IDS:\n",
        "  title_metadata = requests.get(f\"https://www.biodiversitylibrary.org/api2/httpquery.ashx?op=GetTitleMetadata&titleid={title_id}&items=t&apikey={key}&format=json\", headers = headers)\n",
        "  title_metadata = title_metadata.json()\n",
        "\n",
        "  item_id = [item[\"ItemID\"] for item in title_metadata[\"Result\"][\"Items\"]] #fetch item_id (identifier of the work)\n",
        "  for item_i in item_id:\n",
        "    try:\n",
        "        title = title_metadata[\"Result\"][\"FullTitle\"] #fetch title of the work\n",
        "        author = title_metadata[\"Result\"][\"Authors\"][0][\"Name\"] #fetch author name\n",
        "        pub_year = title_metadata[\"Result\"][\"Items\"][0][\"Year\"] #publication year\n",
        "        language = title_metadata[\"Result\"][\"Items\"][0][\"Language\"] #language\n",
        "        cnt += 1\n",
        "        print(cnt)\n",
        "        print(f\"Fetching: {title} \\n By: {author} \\n Written in: {pub_year} \\n Language: {language}\")\n",
        "        print(item_i)\n",
        "\n",
        "    except:\n",
        "        continue\n",
        "  #fetch OCR'ed text for every volume pertaining to every title_id\n",
        "    book = {}\n",
        "    #save failed item_ids to attempt again (never needed this)\n",
        "    failed =[]\n",
        "    text = requests.get(f\"https://www.biodiversitylibrary.org/api2/httpquery.ashx?op=GetItemPages&itemid={item_i}&ocr=t&apikey={key}&format=json\", headers = headers)\n",
        "    text = text.json()\n",
        "    if text[\"Status\"] != \"error\":\n",
        "      ocr = [item[\"OcrText\"] for item in text[\"Result\"]] #fetch OCR for 1 item_ID\n",
        "    else:\n",
        "      failed.append(item_i)\n",
        "      continue\n",
        "\n",
        "    if ocr:\n",
        "      print(\"OCR available\")\n",
        "      #populate dictionary \"book\" with other metadata\n",
        "    book[\"title\"] = title\n",
        "    book[\"author\"] = author\n",
        "    book[\"publication_year\"] = pub_year\n",
        "    book[\"language\"] = language\n",
        "    book[\"fullText\"] = \" \".join(ocr).replace(\"\\n\", \"\")\n",
        "    book[\"item_id\"] = item_i\n",
        "\n",
        "\n",
        "    books.append(book)\n"
      ]
    },
    {
      "cell_type": "code",
      "execution_count": null,
      "metadata": {
        "colab": {
          "base_uri": "https://localhost:8080/"
        },
        "id": "eOptkGLN61n9",
        "outputId": "4ecd8dc8-7c4d-4fce-aceb-6dfffaad2e3c"
      },
      "outputs": [
        {
          "output_type": "execute_result",
          "data": {
            "text/plain": [
              "6"
            ]
          },
          "metadata": {},
          "execution_count": 34
        }
      ],
      "source": [
        "len(books)"
      ]
    },
    {
      "cell_type": "markdown",
      "metadata": {
        "id": "7Du13aO8_Nam"
      },
      "source": [
        "## To csv"
      ]
    },
    {
      "cell_type": "code",
      "execution_count": null,
      "metadata": {
        "id": "8TexJ9mp_PXO"
      },
      "outputs": [],
      "source": [
        "df = pd.DataFrame(books) #change fetched book texts and metadata to dataframe object"
      ]
    },
    {
      "cell_type": "code",
      "execution_count": null,
      "metadata": {
        "id": "PWCpzoUGCyWy"
      },
      "outputs": [],
      "source": [
        "df = df.reset_index(drop = True)"
      ]
    },
    {
      "cell_type": "code",
      "execution_count": null,
      "metadata": {
        "colab": {
          "base_uri": "https://localhost:8080/",
          "height": 337
        },
        "id": "OtFfJXaO6xzh",
        "outputId": "84c5223d-7a5d-4f3d-a494-2b2cbe23852e"
      },
      "outputs": [
        {
          "output_type": "execute_result",
          "data": {
            "text/plain": [
              "                                                Title  \\\n",
              "20       Reize door de binnenlanden van Noord-Amerika   \n",
              "21    Reize naar Arabie?? en andere omliggende landen   \n",
              "22  Reize om de wereld gedaan in de jaren 1803, 18...   \n",
              "23  Reize van Aleppo naar Jeruzalem, op paasschen ...   \n",
              "24  Untersuchungen über Reizerscheinungen bei den ...   \n",
              "\n",
              "                            Author Publication_year Language  \\\n",
              "20               Carver, Jonathan,                     Dutch   \n",
              "21               Niebuhr, Carsten,             1776    Dutch   \n",
              "22  Kruzenshtern, Ivan Fedorovich,                     Dutch   \n",
              "23               Maundrell, Henry,             1705    Dutch   \n",
              "24              Polowzow, Warwara,                    German   \n",
              "\n",
              "                                             FullText  Item_id  \n",
              "20  IMAGE EVALUATION  TEST TARGET (MT-3) 1.0 l.l ■...   101068  \n",
              "21   \" .. Q) CD sz o s 1q - * — naturalis nationaa...   211502  \n",
              "22  t IMAGE EVALUATION  TEST TARGET (MT-S) RHl! 1....    85276  \n",
              "23   £3 Z hljrpozoc < , • < - • ' ' ■  A BIBUCTHSC...   209966  \n",
              "24  m       Untersuchungen über Rcizcrscbeinungen ...    46882  "
            ],
            "text/html": [
              "\n",
              "  <div id=\"df-9cbb47a3-6d29-4432-974b-b4121fd6fcc4\">\n",
              "    <div class=\"colab-df-container\">\n",
              "      <div>\n",
              "<style scoped>\n",
              "    .dataframe tbody tr th:only-of-type {\n",
              "        vertical-align: middle;\n",
              "    }\n",
              "\n",
              "    .dataframe tbody tr th {\n",
              "        vertical-align: top;\n",
              "    }\n",
              "\n",
              "    .dataframe thead th {\n",
              "        text-align: right;\n",
              "    }\n",
              "</style>\n",
              "<table border=\"1\" class=\"dataframe\">\n",
              "  <thead>\n",
              "    <tr style=\"text-align: right;\">\n",
              "      <th></th>\n",
              "      <th>Title</th>\n",
              "      <th>Author</th>\n",
              "      <th>Publication_year</th>\n",
              "      <th>Language</th>\n",
              "      <th>FullText</th>\n",
              "      <th>Item_id</th>\n",
              "    </tr>\n",
              "  </thead>\n",
              "  <tbody>\n",
              "    <tr>\n",
              "      <th>20</th>\n",
              "      <td>Reize door de binnenlanden van Noord-Amerika</td>\n",
              "      <td>Carver, Jonathan,</td>\n",
              "      <td></td>\n",
              "      <td>Dutch</td>\n",
              "      <td>IMAGE EVALUATION  TEST TARGET (MT-3) 1.0 l.l ■...</td>\n",
              "      <td>101068</td>\n",
              "    </tr>\n",
              "    <tr>\n",
              "      <th>21</th>\n",
              "      <td>Reize naar Arabie?? en andere omliggende landen</td>\n",
              "      <td>Niebuhr, Carsten,</td>\n",
              "      <td>1776</td>\n",
              "      <td>Dutch</td>\n",
              "      <td>\" .. Q) CD sz o s 1q - * — naturalis nationaa...</td>\n",
              "      <td>211502</td>\n",
              "    </tr>\n",
              "    <tr>\n",
              "      <th>22</th>\n",
              "      <td>Reize om de wereld gedaan in de jaren 1803, 18...</td>\n",
              "      <td>Kruzenshtern, Ivan Fedorovich,</td>\n",
              "      <td></td>\n",
              "      <td>Dutch</td>\n",
              "      <td>t IMAGE EVALUATION  TEST TARGET (MT-S) RHl! 1....</td>\n",
              "      <td>85276</td>\n",
              "    </tr>\n",
              "    <tr>\n",
              "      <th>23</th>\n",
              "      <td>Reize van Aleppo naar Jeruzalem, op paasschen ...</td>\n",
              "      <td>Maundrell, Henry,</td>\n",
              "      <td>1705</td>\n",
              "      <td>Dutch</td>\n",
              "      <td>£3 Z hljrpozoc &lt; , • &lt; - • ' ' ■  A BIBUCTHSC...</td>\n",
              "      <td>209966</td>\n",
              "    </tr>\n",
              "    <tr>\n",
              "      <th>24</th>\n",
              "      <td>Untersuchungen über Reizerscheinungen bei den ...</td>\n",
              "      <td>Polowzow, Warwara,</td>\n",
              "      <td></td>\n",
              "      <td>German</td>\n",
              "      <td>m       Untersuchungen über Rcizcrscbeinungen ...</td>\n",
              "      <td>46882</td>\n",
              "    </tr>\n",
              "  </tbody>\n",
              "</table>\n",
              "</div>\n",
              "      <button class=\"colab-df-convert\" onclick=\"convertToInteractive('df-9cbb47a3-6d29-4432-974b-b4121fd6fcc4')\"\n",
              "              title=\"Convert this dataframe to an interactive table.\"\n",
              "              style=\"display:none;\">\n",
              "        \n",
              "  <svg xmlns=\"http://www.w3.org/2000/svg\" height=\"24px\"viewBox=\"0 0 24 24\"\n",
              "       width=\"24px\">\n",
              "    <path d=\"M0 0h24v24H0V0z\" fill=\"none\"/>\n",
              "    <path d=\"M18.56 5.44l.94 2.06.94-2.06 2.06-.94-2.06-.94-.94-2.06-.94 2.06-2.06.94zm-11 1L8.5 8.5l.94-2.06 2.06-.94-2.06-.94L8.5 2.5l-.94 2.06-2.06.94zm10 10l.94 2.06.94-2.06 2.06-.94-2.06-.94-.94-2.06-.94 2.06-2.06.94z\"/><path d=\"M17.41 7.96l-1.37-1.37c-.4-.4-.92-.59-1.43-.59-.52 0-1.04.2-1.43.59L10.3 9.45l-7.72 7.72c-.78.78-.78 2.05 0 2.83L4 21.41c.39.39.9.59 1.41.59.51 0 1.02-.2 1.41-.59l7.78-7.78 2.81-2.81c.8-.78.8-2.07 0-2.86zM5.41 20L4 18.59l7.72-7.72 1.47 1.35L5.41 20z\"/>\n",
              "  </svg>\n",
              "      </button>\n",
              "      \n",
              "  <style>\n",
              "    .colab-df-container {\n",
              "      display:flex;\n",
              "      flex-wrap:wrap;\n",
              "      gap: 12px;\n",
              "    }\n",
              "\n",
              "    .colab-df-convert {\n",
              "      background-color: #E8F0FE;\n",
              "      border: none;\n",
              "      border-radius: 50%;\n",
              "      cursor: pointer;\n",
              "      display: none;\n",
              "      fill: #1967D2;\n",
              "      height: 32px;\n",
              "      padding: 0 0 0 0;\n",
              "      width: 32px;\n",
              "    }\n",
              "\n",
              "    .colab-df-convert:hover {\n",
              "      background-color: #E2EBFA;\n",
              "      box-shadow: 0px 1px 2px rgba(60, 64, 67, 0.3), 0px 1px 3px 1px rgba(60, 64, 67, 0.15);\n",
              "      fill: #174EA6;\n",
              "    }\n",
              "\n",
              "    [theme=dark] .colab-df-convert {\n",
              "      background-color: #3B4455;\n",
              "      fill: #D2E3FC;\n",
              "    }\n",
              "\n",
              "    [theme=dark] .colab-df-convert:hover {\n",
              "      background-color: #434B5C;\n",
              "      box-shadow: 0px 1px 3px 1px rgba(0, 0, 0, 0.15);\n",
              "      filter: drop-shadow(0px 1px 2px rgba(0, 0, 0, 0.3));\n",
              "      fill: #FFFFFF;\n",
              "    }\n",
              "  </style>\n",
              "\n",
              "      <script>\n",
              "        const buttonEl =\n",
              "          document.querySelector('#df-9cbb47a3-6d29-4432-974b-b4121fd6fcc4 button.colab-df-convert');\n",
              "        buttonEl.style.display =\n",
              "          google.colab.kernel.accessAllowed ? 'block' : 'none';\n",
              "\n",
              "        async function convertToInteractive(key) {\n",
              "          const element = document.querySelector('#df-9cbb47a3-6d29-4432-974b-b4121fd6fcc4');\n",
              "          const dataTable =\n",
              "            await google.colab.kernel.invokeFunction('convertToInteractive',\n",
              "                                                     [key], {});\n",
              "          if (!dataTable) return;\n",
              "\n",
              "          const docLinkHtml = 'Like what you see? Visit the ' +\n",
              "            '<a target=\"_blank\" href=https://colab.research.google.com/notebooks/data_table.ipynb>data table notebook</a>'\n",
              "            + ' to learn more about interactive tables.';\n",
              "          element.innerHTML = '';\n",
              "          dataTable['output_type'] = 'display_data';\n",
              "          await google.colab.output.renderOutput(dataTable, element);\n",
              "          const docLink = document.createElement('div');\n",
              "          docLink.innerHTML = docLinkHtml;\n",
              "          element.appendChild(docLink);\n",
              "        }\n",
              "      </script>\n",
              "    </div>\n",
              "  </div>\n",
              "  "
            ]
          },
          "metadata": {},
          "execution_count": 24
        }
      ],
      "source": [
        "df.tail() #check"
      ]
    },
    {
      "cell_type": "code",
      "execution_count": null,
      "metadata": {
        "colab": {
          "base_uri": "https://localhost:8080/"
        },
        "id": "gvEUES2P7JGf",
        "outputId": "60d8073b-ae1f-433f-c0c1-7acc69fc0b27"
      },
      "outputs": [
        {
          "output_type": "execute_result",
          "data": {
            "text/plain": [
              "German    3\n",
              "Dutch     3\n",
              "Name: Language, dtype: int64"
            ]
          },
          "metadata": {},
          "execution_count": 40
        }
      ],
      "source": [
        "df[\"Language\"].value_counts() #check language distribution"
      ]
    },
    {
      "cell_type": "code",
      "execution_count": null,
      "metadata": {
        "id": "59tjRmvk_Xap"
      },
      "outputs": [],
      "source": [
        "df.to_csv(\"reys.csv\") #save to .csv-file with name of travel-related term"
      ]
    },
    {
      "cell_type": "code",
      "execution_count": null,
      "metadata": {
        "colab": {
          "base_uri": "https://localhost:8080/",
          "height": 143
        },
        "id": "RND72nrjFHAW",
        "outputId": "12a4017a-869d-4fb9-db39-c35dd0c1fdd7"
      },
      "outputs": [
        {
          "data": {
            "text/html": [
              "\n",
              "  <div id=\"df-a736b8bd-d223-4b28-a5fb-9a7871a0fd3c\">\n",
              "    <div class=\"colab-df-container\">\n",
              "      <div>\n",
              "<style scoped>\n",
              "    .dataframe tbody tr th:only-of-type {\n",
              "        vertical-align: middle;\n",
              "    }\n",
              "\n",
              "    .dataframe tbody tr th {\n",
              "        vertical-align: top;\n",
              "    }\n",
              "\n",
              "    .dataframe thead th {\n",
              "        text-align: right;\n",
              "    }\n",
              "</style>\n",
              "<table border=\"1\" class=\"dataframe\">\n",
              "  <thead>\n",
              "    <tr style=\"text-align: right;\">\n",
              "      <th></th>\n",
              "      <th>Title</th>\n",
              "      <th>Author</th>\n",
              "      <th>Publication_year</th>\n",
              "      <th>Language</th>\n",
              "      <th>FullText</th>\n",
              "      <th>Item_id</th>\n",
              "    </tr>\n",
              "  </thead>\n",
              "  <tbody>\n",
              "    <tr>\n",
              "      <th>4</th>\n",
              "      <td>Apparent triploidy in the unisexual brahminy b...</td>\n",
              "      <td>Cole, Charles J.</td>\n",
              "      <td></td>\n",
              "      <td>English</td>\n",
              "      <td></td>\n",
              "      <td>171114</td>\n",
              "    </tr>\n",
              "    <tr>\n",
              "      <th>15</th>\n",
              "      <td>Chromosome evolution in selected treefrogs, in...</td>\n",
              "      <td>Cole, Charles J.</td>\n",
              "      <td></td>\n",
              "      <td>English</td>\n",
              "      <td></td>\n",
              "      <td>168661</td>\n",
              "    </tr>\n",
              "    <tr>\n",
              "      <th>152</th>\n",
              "      <td>On North American moths, with the description ...</td>\n",
              "      <td>Beutenmüller, William,</td>\n",
              "      <td></td>\n",
              "      <td>English</td>\n",
              "      <td></td>\n",
              "      <td>167304</td>\n",
              "    </tr>\n",
              "  </tbody>\n",
              "</table>\n",
              "</div>\n",
              "      <button class=\"colab-df-convert\" onclick=\"convertToInteractive('df-a736b8bd-d223-4b28-a5fb-9a7871a0fd3c')\"\n",
              "              title=\"Convert this dataframe to an interactive table.\"\n",
              "              style=\"display:none;\">\n",
              "        \n",
              "  <svg xmlns=\"http://www.w3.org/2000/svg\" height=\"24px\"viewBox=\"0 0 24 24\"\n",
              "       width=\"24px\">\n",
              "    <path d=\"M0 0h24v24H0V0z\" fill=\"none\"/>\n",
              "    <path d=\"M18.56 5.44l.94 2.06.94-2.06 2.06-.94-2.06-.94-.94-2.06-.94 2.06-2.06.94zm-11 1L8.5 8.5l.94-2.06 2.06-.94-2.06-.94L8.5 2.5l-.94 2.06-2.06.94zm10 10l.94 2.06.94-2.06 2.06-.94-2.06-.94-.94-2.06-.94 2.06-2.06.94z\"/><path d=\"M17.41 7.96l-1.37-1.37c-.4-.4-.92-.59-1.43-.59-.52 0-1.04.2-1.43.59L10.3 9.45l-7.72 7.72c-.78.78-.78 2.05 0 2.83L4 21.41c.39.39.9.59 1.41.59.51 0 1.02-.2 1.41-.59l7.78-7.78 2.81-2.81c.8-.78.8-2.07 0-2.86zM5.41 20L4 18.59l7.72-7.72 1.47 1.35L5.41 20z\"/>\n",
              "  </svg>\n",
              "      </button>\n",
              "      \n",
              "  <style>\n",
              "    .colab-df-container {\n",
              "      display:flex;\n",
              "      flex-wrap:wrap;\n",
              "      gap: 12px;\n",
              "    }\n",
              "\n",
              "    .colab-df-convert {\n",
              "      background-color: #E8F0FE;\n",
              "      border: none;\n",
              "      border-radius: 50%;\n",
              "      cursor: pointer;\n",
              "      display: none;\n",
              "      fill: #1967D2;\n",
              "      height: 32px;\n",
              "      padding: 0 0 0 0;\n",
              "      width: 32px;\n",
              "    }\n",
              "\n",
              "    .colab-df-convert:hover {\n",
              "      background-color: #E2EBFA;\n",
              "      box-shadow: 0px 1px 2px rgba(60, 64, 67, 0.3), 0px 1px 3px 1px rgba(60, 64, 67, 0.15);\n",
              "      fill: #174EA6;\n",
              "    }\n",
              "\n",
              "    [theme=dark] .colab-df-convert {\n",
              "      background-color: #3B4455;\n",
              "      fill: #D2E3FC;\n",
              "    }\n",
              "\n",
              "    [theme=dark] .colab-df-convert:hover {\n",
              "      background-color: #434B5C;\n",
              "      box-shadow: 0px 1px 3px 1px rgba(0, 0, 0, 0.15);\n",
              "      filter: drop-shadow(0px 1px 2px rgba(0, 0, 0, 0.3));\n",
              "      fill: #FFFFFF;\n",
              "    }\n",
              "  </style>\n",
              "\n",
              "      <script>\n",
              "        const buttonEl =\n",
              "          document.querySelector('#df-a736b8bd-d223-4b28-a5fb-9a7871a0fd3c button.colab-df-convert');\n",
              "        buttonEl.style.display =\n",
              "          google.colab.kernel.accessAllowed ? 'block' : 'none';\n",
              "\n",
              "        async function convertToInteractive(key) {\n",
              "          const element = document.querySelector('#df-a736b8bd-d223-4b28-a5fb-9a7871a0fd3c');\n",
              "          const dataTable =\n",
              "            await google.colab.kernel.invokeFunction('convertToInteractive',\n",
              "                                                     [key], {});\n",
              "          if (!dataTable) return;\n",
              "\n",
              "          const docLinkHtml = 'Like what you see? Visit the ' +\n",
              "            '<a target=\"_blank\" href=https://colab.research.google.com/notebooks/data_table.ipynb>data table notebook</a>'\n",
              "            + ' to learn more about interactive tables.';\n",
              "          element.innerHTML = '';\n",
              "          dataTable['output_type'] = 'display_data';\n",
              "          await google.colab.output.renderOutput(dataTable, element);\n",
              "          const docLink = document.createElement('div');\n",
              "          docLink.innerHTML = docLinkHtml;\n",
              "          element.appendChild(docLink);\n",
              "        }\n",
              "      </script>\n",
              "    </div>\n",
              "  </div>\n",
              "  "
            ],
            "text/plain": [
              "                                                 Title  \\\n",
              "4    Apparent triploidy in the unisexual brahminy b...   \n",
              "15   Chromosome evolution in selected treefrogs, in...   \n",
              "152  On North American moths, with the description ...   \n",
              "\n",
              "                      Author Publication_year Language FullText  Item_id  \n",
              "4           Cole, Charles J.                   English            171114  \n",
              "15          Cole, Charles J.                   English            168661  \n",
              "152  Beutenmüller, William,                   English            167304  "
            ]
          },
          "execution_count": 75,
          "metadata": {},
          "output_type": "execute_result"
        }
      ],
      "source": [
        "ddf[df[\"FullText\"] == \"\"] #check for entries where texts are not available"
      ]
    }
  ],
  "metadata": {
    "colab": {
      "provenance": []
    },
    "kernelspec": {
      "display_name": "Python 3",
      "name": "python3"
    },
    "language_info": {
      "name": "python"
    }
  },
  "nbformat": 4,
  "nbformat_minor": 0
}